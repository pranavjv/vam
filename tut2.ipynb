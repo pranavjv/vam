{
 "cells": [
  {
   "cell_type": "code",
   "execution_count": 1,
   "metadata": {},
   "outputs": [],
   "source": [
    "from benchmarker import Benchmarker\n",
    "from VADAM import VADAM"
   ]
  },
  {
   "cell_type": "code",
   "execution_count": 6,
   "metadata": {},
   "outputs": [],
   "source": [
    "params = {\n",
    "    'lr': 0.001,\n",
    "    'beta1': 0.9,\n",
    "    'beta2': 0.999,\n",
    "    'device': 'mps',            # Required parameter\n",
    "    'model': 'SimpleCNN',       # Required parameter\n",
    "    'dataset': 'CIFAR10',       # Required parameter \n",
    "    'dataset_size': 'small',    # Required parameter\n",
    "    'optimizer': 'VADAM'        # Required parameter\n",
    "}\n",
    "benchmark1= Benchmarker(params)\n",
    "benchmark1.run()\n"
   ]
  },
  {
   "cell_type": "code",
   "execution_count": 8,
   "metadata": {},
   "outputs": [
    {
     "name": "stdout",
     "output_type": "stream",
     "text": [
      "<benchmarker.Benchmarker object at 0x306a74e80>\n"
     ]
    }
   ],
   "source": [
    "print(benchmark1)"
   ]
  },
  {
   "cell_type": "code",
   "execution_count": null,
   "metadata": {},
   "outputs": [],
   "source": []
  }
 ],
 "metadata": {
  "kernelspec": {
   "display_name": "base",
   "language": "python",
   "name": "python3"
  },
  "language_info": {
   "codemirror_mode": {
    "name": "ipython",
    "version": 3
   },
   "file_extension": ".py",
   "mimetype": "text/x-python",
   "name": "python",
   "nbconvert_exporter": "python",
   "pygments_lexer": "ipython3",
   "version": "3.10.10"
  }
 },
 "nbformat": 4,
 "nbformat_minor": 2
}
