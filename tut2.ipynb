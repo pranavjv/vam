{
 "cells": [
  {
   "cell_type": "code",
   "execution_count": 2,
   "metadata": {},
   "outputs": [],
   "source": [
    "from benchmarker import Benchmarker\n",
    "from VADAM import VADAM"
   ]
  },
  {
   "cell_type": "code",
   "execution_count": null,
   "metadata": {},
   "outputs": [],
   "source": [
    "params= {\n",
    "    'lr': 0.001,\n",
    "    'beta1': 0.9,\n",
    "    'beta2': 0.999,\n",
    "}\n",
    "benchmark1= Benchmarker(params)\n",
    "benchmark1.run()\n",
    "benchmark.results"
   ]
  },
  {
   "cell_type": "code",
   "execution_count": null,
   "metadata": {},
   "outputs": [],
   "source": [
    "results= [dict1, dict2 etc]\n",
    "dict1= {'params':params, losses= , final, test_set}"
   ]
  }
 ],
 "metadata": {
  "kernelspec": {
   "display_name": "vam-zpeBnFGx-py3.12",
   "language": "python",
   "name": "python3"
  },
  "language_info": {
   "codemirror_mode": {
    "name": "ipython",
    "version": 3
   },
   "file_extension": ".py",
   "mimetype": "text/x-python",
   "name": "python",
   "nbconvert_exporter": "python",
   "pygments_lexer": "ipython3",
   "version": "3.12.2"
  }
 },
 "nbformat": 4,
 "nbformat_minor": 2
}
